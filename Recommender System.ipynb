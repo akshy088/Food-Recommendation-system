{
 "cells": [
  {
   "cell_type": "markdown",
   "id": "306472ed",
   "metadata": {},
   "source": [
    "# Importing Libraries"
   ]
  },
  {
   "cell_type": "code",
   "execution_count": 1,
   "id": "66b23788",
   "metadata": {},
   "outputs": [],
   "source": [
    "# EDA\n",
    "import pandas as pd\n",
    "import numpy as np\n",
    "\n",
    "# Data Preprocessing \n",
    "from sklearn import preprocessing\n",
    "\n",
    "# Data visualisation\n",
    "import matplotlib.pyplot as plt\n",
    "import seaborn as sns\n",
    "sns.set()\n",
    "\n",
    "# Recommender System Imps\n",
    "# Content Based Filtering \n",
    "from sklearn.feature_extraction.text import TfidfVectorizer\n",
    "from sklearn.metrics.pairwise import linear_kernel\n",
    "from sklearn.feature_extraction.text import CountVectorizer\n",
    "from sklearn.metrics.pairwise import cosine_similarity\n",
    "# Collaborative Based Filtering \n",
    "from scipy.sparse import csr_matrix\n",
    "from sklearn.neighbors import NearestNeighbors\n",
    "\n",
    "# To work with text data \n",
    "import re\n",
    "import string"
   ]
  },
  {
   "cell_type": "markdown",
   "id": "cd94b287",
   "metadata": {},
   "source": [
    "# Importing Data "
   ]
  },
  {
   "cell_type": "code",
   "execution_count": 2,
   "id": "42f6b262",
   "metadata": {},
   "outputs": [
    {
     "data": {
      "text/html": [
       "<div>\n",
       "<style scoped>\n",
       "    .dataframe tbody tr th:only-of-type {\n",
       "        vertical-align: middle;\n",
       "    }\n",
       "\n",
       "    .dataframe tbody tr th {\n",
       "        vertical-align: top;\n",
       "    }\n",
       "\n",
       "    .dataframe thead th {\n",
       "        text-align: right;\n",
       "    }\n",
       "</style>\n",
       "<table border=\"1\" class=\"dataframe\">\n",
       "  <thead>\n",
       "    <tr style=\"text-align: right;\">\n",
       "      <th></th>\n",
       "      <th>Food_ID</th>\n",
       "      <th>Name</th>\n",
       "      <th>C_Type</th>\n",
       "      <th>Veg_Non</th>\n",
       "      <th>Describe</th>\n",
       "    </tr>\n",
       "  </thead>\n",
       "  <tbody>\n",
       "    <tr>\n",
       "      <th>0</th>\n",
       "      <td>1</td>\n",
       "      <td>Spicy Green Papaya Salad</td>\n",
       "      <td>Thai</td>\n",
       "      <td>veg</td>\n",
       "      <td>Som Tam is a flavorful, green papaya salad dis...</td>\n",
       "    </tr>\n",
       "    <tr>\n",
       "      <th>1</th>\n",
       "      <td>2</td>\n",
       "      <td>Thai Fried Noodles</td>\n",
       "      <td>Thai</td>\n",
       "      <td>veg</td>\n",
       "      <td>ad Thai is one of the most iconic stir-fried T...</td>\n",
       "    </tr>\n",
       "    <tr>\n",
       "      <th>2</th>\n",
       "      <td>3</td>\n",
       "      <td>Hamburger</td>\n",
       "      <td>American</td>\n",
       "      <td>non-veg</td>\n",
       "      <td>A sandwich made with a beef patty and various ...</td>\n",
       "    </tr>\n",
       "    <tr>\n",
       "      <th>3</th>\n",
       "      <td>4</td>\n",
       "      <td>Raw Papaya Salad</td>\n",
       "      <td>Thai</td>\n",
       "      <td>veg</td>\n",
       "      <td>This Som Tum salad is as delicious as it is fi...</td>\n",
       "    </tr>\n",
       "    <tr>\n",
       "      <th>4</th>\n",
       "      <td>5</td>\n",
       "      <td>christmas cake</td>\n",
       "      <td>Dessert</td>\n",
       "      <td>veg</td>\n",
       "      <td>christmas dry fruits (pre-soaked), orange zest...</td>\n",
       "    </tr>\n",
       "  </tbody>\n",
       "</table>\n",
       "</div>"
      ],
      "text/plain": [
       "   Food_ID                      Name    C_Type  Veg_Non  \\\n",
       "0        1  Spicy Green Papaya Salad      Thai      veg   \n",
       "1        2        Thai Fried Noodles      Thai      veg   \n",
       "2        3                 Hamburger  American  non-veg   \n",
       "3        4          Raw Papaya Salad      Thai      veg   \n",
       "4        5            christmas cake   Dessert      veg   \n",
       "\n",
       "                                            Describe  \n",
       "0  Som Tam is a flavorful, green papaya salad dis...  \n",
       "1  ad Thai is one of the most iconic stir-fried T...  \n",
       "2  A sandwich made with a beef patty and various ...  \n",
       "3  This Som Tum salad is as delicious as it is fi...  \n",
       "4  christmas dry fruits (pre-soaked), orange zest...  "
      ]
     },
     "execution_count": 2,
     "metadata": {},
     "output_type": "execute_result"
    }
   ],
   "source": [
    "df = pd.read_csv('./Book1.csv',encoding = 'latin-1')\n",
    "df.head()"
   ]
  },
  {
   "cell_type": "code",
   "execution_count": 3,
   "id": "9bed10d0",
   "metadata": {},
   "outputs": [
    {
     "data": {
      "text/plain": [
       "289"
      ]
     },
     "execution_count": 3,
     "metadata": {},
     "output_type": "execute_result"
    }
   ],
   "source": [
    "# No of dishes in my dataset\n",
    "len(list(df['Name'].unique()))"
   ]
  },
  {
   "cell_type": "code",
   "execution_count": 4,
   "id": "00d2a872",
   "metadata": {},
   "outputs": [
    {
     "data": {
      "text/plain": [
       "array(['Thai', 'American', 'Dessert', 'Chinese', 'Indian', 'Italian',\n",
       "       'Beverage'], dtype=object)"
      ]
     },
     "execution_count": 4,
     "metadata": {},
     "output_type": "execute_result"
    }
   ],
   "source": [
    "df['C_Type'].unique() # Categorical Data "
   ]
  },
  {
   "cell_type": "code",
   "execution_count": 5,
   "id": "389308ba",
   "metadata": {},
   "outputs": [
    {
     "data": {
      "text/plain": [
       "array(['veg', 'non-veg'], dtype=object)"
      ]
     },
     "execution_count": 5,
     "metadata": {},
     "output_type": "execute_result"
    }
   ],
   "source": [
    "df['Veg_Non'].unique() # Categorical Data "
   ]
  },
  {
   "cell_type": "code",
   "execution_count": 6,
   "id": "4ff8da2e",
   "metadata": {},
   "outputs": [
    {
     "data": {
      "text/plain": [
       "309"
      ]
     },
     "execution_count": 6,
     "metadata": {},
     "output_type": "execute_result"
    }
   ],
   "source": [
    "len(df) \n",
    "# Hmm... Small Dataset!"
   ]
  },
  {
   "cell_type": "code",
   "execution_count": 7,
   "id": "b263fbe1",
   "metadata": {},
   "outputs": [
    {
     "data": {
      "text/plain": [
       "(309, 5)"
      ]
     },
     "execution_count": 7,
     "metadata": {},
     "output_type": "execute_result"
    }
   ],
   "source": [
    "df.shape"
   ]
  },
  {
   "cell_type": "code",
   "execution_count": 8,
   "id": "c04a431c",
   "metadata": {},
   "outputs": [
    {
     "name": "stdout",
     "output_type": "stream",
     "text": [
      "<class 'pandas.core.frame.DataFrame'>\n",
      "RangeIndex: 309 entries, 0 to 308\n",
      "Data columns (total 5 columns):\n",
      " #   Column    Non-Null Count  Dtype \n",
      "---  ------    --------------  ----- \n",
      " 0   Food_ID   309 non-null    int64 \n",
      " 1   Name      309 non-null    object\n",
      " 2   C_Type    309 non-null    object\n",
      " 3   Veg_Non   309 non-null    object\n",
      " 4   Describe  309 non-null    object\n",
      "dtypes: int64(1), object(4)\n",
      "memory usage: 12.2+ KB\n"
     ]
    }
   ],
   "source": [
    "df.info()"
   ]
  },
  {
   "cell_type": "code",
   "execution_count": 9,
   "id": "3d351542",
   "metadata": {},
   "outputs": [],
   "source": [
    "# Let's make a function to remove all the punctuation from the \"Describe\" column\n",
    "def text_cleaning(text):\n",
    "    text  = \"\".join([char for char in text if char not in string.punctuation])    \n",
    "    return text"
   ]
  },
  {
   "cell_type": "code",
   "execution_count": 10,
   "id": "5b838941",
   "metadata": {},
   "outputs": [],
   "source": [
    "# Let's clean the text \n",
    "df['Describe'] = df['Describe'].apply(text_cleaning)"
   ]
  },
  {
   "cell_type": "code",
   "execution_count": 11,
   "id": "8061c396",
   "metadata": {},
   "outputs": [
    {
     "data": {
      "text/html": [
       "<div>\n",
       "<style scoped>\n",
       "    .dataframe tbody tr th:only-of-type {\n",
       "        vertical-align: middle;\n",
       "    }\n",
       "\n",
       "    .dataframe tbody tr th {\n",
       "        vertical-align: top;\n",
       "    }\n",
       "\n",
       "    .dataframe thead th {\n",
       "        text-align: right;\n",
       "    }\n",
       "</style>\n",
       "<table border=\"1\" class=\"dataframe\">\n",
       "  <thead>\n",
       "    <tr style=\"text-align: right;\">\n",
       "      <th></th>\n",
       "      <th>Food_ID</th>\n",
       "      <th>Name</th>\n",
       "      <th>C_Type</th>\n",
       "      <th>Veg_Non</th>\n",
       "      <th>Describe</th>\n",
       "    </tr>\n",
       "  </thead>\n",
       "  <tbody>\n",
       "    <tr>\n",
       "      <th>0</th>\n",
       "      <td>1</td>\n",
       "      <td>Spicy Green Papaya Salad</td>\n",
       "      <td>Thai</td>\n",
       "      <td>veg</td>\n",
       "      <td>Som Tam is a flavorful green papaya salad dish...</td>\n",
       "    </tr>\n",
       "    <tr>\n",
       "      <th>1</th>\n",
       "      <td>2</td>\n",
       "      <td>Thai Fried Noodles</td>\n",
       "      <td>Thai</td>\n",
       "      <td>veg</td>\n",
       "      <td>ad Thai is one of the most iconic stirfried Th...</td>\n",
       "    </tr>\n",
       "    <tr>\n",
       "      <th>2</th>\n",
       "      <td>3</td>\n",
       "      <td>Hamburger</td>\n",
       "      <td>American</td>\n",
       "      <td>non-veg</td>\n",
       "      <td>A sandwich made with a beef patty and various ...</td>\n",
       "    </tr>\n",
       "    <tr>\n",
       "      <th>3</th>\n",
       "      <td>4</td>\n",
       "      <td>Raw Papaya Salad</td>\n",
       "      <td>Thai</td>\n",
       "      <td>veg</td>\n",
       "      <td>This Som Tum salad is as delicious as it is fi...</td>\n",
       "    </tr>\n",
       "    <tr>\n",
       "      <th>4</th>\n",
       "      <td>5</td>\n",
       "      <td>christmas cake</td>\n",
       "      <td>Dessert</td>\n",
       "      <td>veg</td>\n",
       "      <td>christmas dry fruits presoaked orange zest lem...</td>\n",
       "    </tr>\n",
       "  </tbody>\n",
       "</table>\n",
       "</div>"
      ],
      "text/plain": [
       "   Food_ID                      Name    C_Type  Veg_Non  \\\n",
       "0        1  Spicy Green Papaya Salad      Thai      veg   \n",
       "1        2        Thai Fried Noodles      Thai      veg   \n",
       "2        3                 Hamburger  American  non-veg   \n",
       "3        4          Raw Papaya Salad      Thai      veg   \n",
       "4        5            christmas cake   Dessert      veg   \n",
       "\n",
       "                                            Describe  \n",
       "0  Som Tam is a flavorful green papaya salad dish...  \n",
       "1  ad Thai is one of the most iconic stirfried Th...  \n",
       "2  A sandwich made with a beef patty and various ...  \n",
       "3  This Som Tum salad is as delicious as it is fi...  \n",
       "4  christmas dry fruits presoaked orange zest lem...  "
      ]
     },
     "execution_count": 11,
     "metadata": {},
     "output_type": "execute_result"
    }
   ],
   "source": [
    "# Let's see if that worked...\n",
    "df.head()"
   ]
  },
  {
   "cell_type": "code",
   "execution_count": 12,
   "id": "35a2ce88",
   "metadata": {},
   "outputs": [
    {
     "data": {
      "text/plain": [
       "0"
      ]
     },
     "execution_count": 12,
     "metadata": {},
     "output_type": "execute_result"
    }
   ],
   "source": [
    "# Are there any duplicate data ?\n",
    "df.duplicated().sum()\n",
    "# None :)"
   ]
  },
  {
   "cell_type": "code",
   "execution_count": 13,
   "id": "e01524f0",
   "metadata": {},
   "outputs": [
    {
     "data": {
      "text/plain": [
       "Food_ID     0\n",
       "Name        0\n",
       "C_Type      0\n",
       "Veg_Non     0\n",
       "Describe    0\n",
       "dtype: int64"
      ]
     },
     "execution_count": 13,
     "metadata": {},
     "output_type": "execute_result"
    }
   ],
   "source": [
    "# Are there any null values?\n",
    "df.isnull().sum()\n",
    "# None :))"
   ]
  },
  {
   "cell_type": "code",
   "execution_count": 14,
   "id": "ed469223",
   "metadata": {},
   "outputs": [
    {
     "data": {
      "text/html": [
       "<div>\n",
       "<style scoped>\n",
       "    .dataframe tbody tr th:only-of-type {\n",
       "        vertical-align: middle;\n",
       "    }\n",
       "\n",
       "    .dataframe tbody tr th {\n",
       "        vertical-align: top;\n",
       "    }\n",
       "\n",
       "    .dataframe thead th {\n",
       "        text-align: right;\n",
       "    }\n",
       "</style>\n",
       "<table border=\"1\" class=\"dataframe\">\n",
       "  <thead>\n",
       "    <tr style=\"text-align: right;\">\n",
       "      <th></th>\n",
       "      <th>Food_ID</th>\n",
       "    </tr>\n",
       "  </thead>\n",
       "  <tbody>\n",
       "    <tr>\n",
       "      <th>count</th>\n",
       "      <td>309.000000</td>\n",
       "    </tr>\n",
       "    <tr>\n",
       "      <th>mean</th>\n",
       "      <td>155.000000</td>\n",
       "    </tr>\n",
       "    <tr>\n",
       "      <th>std</th>\n",
       "      <td>89.344838</td>\n",
       "    </tr>\n",
       "    <tr>\n",
       "      <th>min</th>\n",
       "      <td>1.000000</td>\n",
       "    </tr>\n",
       "    <tr>\n",
       "      <th>25%</th>\n",
       "      <td>78.000000</td>\n",
       "    </tr>\n",
       "    <tr>\n",
       "      <th>50%</th>\n",
       "      <td>155.000000</td>\n",
       "    </tr>\n",
       "    <tr>\n",
       "      <th>75%</th>\n",
       "      <td>232.000000</td>\n",
       "    </tr>\n",
       "    <tr>\n",
       "      <th>max</th>\n",
       "      <td>309.000000</td>\n",
       "    </tr>\n",
       "  </tbody>\n",
       "</table>\n",
       "</div>"
      ],
      "text/plain": [
       "          Food_ID\n",
       "count  309.000000\n",
       "mean   155.000000\n",
       "std     89.344838\n",
       "min      1.000000\n",
       "25%     78.000000\n",
       "50%    155.000000\n",
       "75%    232.000000\n",
       "max    309.000000"
      ]
     },
     "execution_count": 14,
     "metadata": {},
     "output_type": "execute_result"
    }
   ],
   "source": [
    "# General Description \n",
    "df.describe()"
   ]
  },
  {
   "cell_type": "markdown",
   "id": "974dfe4d",
   "metadata": {},
   "source": [
    "# Content Based Filtering "
   ]
  },
  {
   "cell_type": "markdown",
   "id": "0673e899",
   "metadata": {},
   "source": [
    "# 1. Simple Content Based Filtering"
   ]
  },
  {
   "cell_type": "markdown",
   "id": "b16e159f",
   "metadata": {},
   "source": [
    "### What is TF-IDF?\n",
    "In a large text corpus, some words will be very present (e.g. “the”, “a”, “is” in English) hence carrying very little meaningful information about the actual contents of the document. If we were to feed the direct count data directly to a classifier those very frequent terms would shadow the frequencies of rarer yet more interesting terms.\n",
    "\n",
    "In order to re-weight the count features into floating point values suitable for usage by a classifier it is very common to use the tf–idf transform.\n",
    "\n",
    "Thanks to https://scikit-learn.org/stable/modules/feature_extraction.html#text-feature-extraction"
   ]
  },
  {
   "cell_type": "code",
   "execution_count": 15,
   "id": "ce8f88aa",
   "metadata": {},
   "outputs": [
    {
     "data": {
      "text/plain": [
       "(309, 967)"
      ]
     },
     "execution_count": 15,
     "metadata": {},
     "output_type": "execute_result"
    }
   ],
   "source": [
    "tfidf = TfidfVectorizer(stop_words='english')\n",
    "tfidf_matrix = tfidf.fit_transform(df['Describe'])\n",
    "tfidf_matrix.shape"
   ]
  },
  {
   "cell_type": "markdown",
   "id": "8f60e9ff",
   "metadata": {},
   "source": [
    "### What is Linear Kernel ?\n",
    "The function linear_kernel computes the linear kernel, that is, a special case of polynomial_kernel with degree=1 and coef0=0 (homogeneous). \n",
    "\n",
    "Thanks to https://scikit-learn.org/stable/modules/metrics.html#linear-kernel"
   ]
  },
  {
   "cell_type": "code",
   "execution_count": 16,
   "id": "542c88fa",
   "metadata": {},
   "outputs": [
    {
     "data": {
      "text/plain": [
       "array([[1.        , 0.15850277, 0.        , ..., 0.        , 0.        ,\n",
       "        0.        ],\n",
       "       [0.15850277, 1.        , 0.        , ..., 0.        , 0.        ,\n",
       "        0.        ],\n",
       "       [0.        , 0.        , 1.        , ..., 0.        , 0.        ,\n",
       "        0.        ],\n",
       "       ...,\n",
       "       [0.        , 0.        , 0.        , ..., 1.        , 0.        ,\n",
       "        0.        ],\n",
       "       [0.        , 0.        , 0.        , ..., 0.        , 1.        ,\n",
       "        0.        ],\n",
       "       [0.        , 0.        , 0.        , ..., 0.        , 0.        ,\n",
       "        1.        ]])"
      ]
     },
     "execution_count": 16,
     "metadata": {},
     "output_type": "execute_result"
    }
   ],
   "source": [
    "cosine_sim = linear_kernel(tfidf_matrix, tfidf_matrix)\n",
    "cosine_sim"
   ]
  },
  {
   "cell_type": "code",
   "execution_count": 17,
   "id": "7c109c8a",
   "metadata": {},
   "outputs": [
    {
     "data": {
      "text/plain": [
       "Name\n",
       "Spicy Green Papaya Salad      0\n",
       "Thai Fried Noodles            1\n",
       "Hamburger                     2\n",
       "Raw Papaya Salad              3\n",
       "christmas cake                4\n",
       "                           ... \n",
       "Veg Hakka Noodles           304\n",
       "Pecan pie                   305\n",
       "Dosa                        306\n",
       "Double ka meetha            307\n",
       "Banana pudding              308\n",
       "Length: 309, dtype: int64"
      ]
     },
     "execution_count": 17,
     "metadata": {},
     "output_type": "execute_result"
    }
   ],
   "source": [
    "# Just considering the Food names from the dataframe\n",
    "indices = pd.Series(df.index, index=df['Name']).drop_duplicates()\n",
    "indices"
   ]
  },
  {
   "cell_type": "code",
   "execution_count": 18,
   "id": "75b061fe",
   "metadata": {},
   "outputs": [],
   "source": [
    "# The main recommender code!\n",
    "def get_recommendations(title, cosine_sim=cosine_sim):\n",
    "    \n",
    "    idx = indices[title]\n",
    "    sim_scores = list(enumerate(cosine_sim[idx]))\n",
    "    sim_scores = sorted(sim_scores, key=lambda x: x[1], reverse=True)\n",
    "\n",
    "    # Get the scores of the 5 most similar food\n",
    "    sim_scores = sim_scores[1:6]\n",
    "    \n",
    "    food_indices = [i[0] for i in sim_scores]\n",
    "    return df['Name'].iloc[food_indices]"
   ]
  },
  {
   "cell_type": "markdown",
   "id": "f462d841",
   "metadata": {},
   "source": [
    "# 2. Advanced Content Based Filtering"
   ]
  },
  {
   "cell_type": "code",
   "execution_count": 19,
   "id": "d69b47c6",
   "metadata": {},
   "outputs": [],
   "source": [
    "# Including all features that will help in recommending better\n",
    "features = ['C_Type','Veg_Non', 'Describe']"
   ]
  },
  {
   "cell_type": "code",
   "execution_count": 20,
   "id": "ff638ee4",
   "metadata": {},
   "outputs": [],
   "source": [
    "# Soup represents a mixture of elements \n",
    "# Similarly, I am making one column that will have all the important features \n",
    "# I am simply concatenating the strings \n",
    "\n",
    "def create_soup(x):\n",
    "    return x['C_Type'] + \" \" + x['Veg_Non'] + \" \" + x['Describe']"
   ]
  },
  {
   "cell_type": "code",
   "execution_count": 21,
   "id": "35bf9fa0",
   "metadata": {},
   "outputs": [],
   "source": [
    "# Using the soup(), I am creating the column for the dataframe df\n",
    "df['soup'] = df.apply(create_soup, axis=1)"
   ]
  },
  {
   "cell_type": "code",
   "execution_count": 22,
   "id": "7bd0eb67",
   "metadata": {},
   "outputs": [
    {
     "data": {
      "text/html": [
       "<div>\n",
       "<style scoped>\n",
       "    .dataframe tbody tr th:only-of-type {\n",
       "        vertical-align: middle;\n",
       "    }\n",
       "\n",
       "    .dataframe tbody tr th {\n",
       "        vertical-align: top;\n",
       "    }\n",
       "\n",
       "    .dataframe thead th {\n",
       "        text-align: right;\n",
       "    }\n",
       "</style>\n",
       "<table border=\"1\" class=\"dataframe\">\n",
       "  <thead>\n",
       "    <tr style=\"text-align: right;\">\n",
       "      <th></th>\n",
       "      <th>Food_ID</th>\n",
       "      <th>Name</th>\n",
       "      <th>C_Type</th>\n",
       "      <th>Veg_Non</th>\n",
       "      <th>Describe</th>\n",
       "      <th>soup</th>\n",
       "    </tr>\n",
       "  </thead>\n",
       "  <tbody>\n",
       "    <tr>\n",
       "      <th>0</th>\n",
       "      <td>1</td>\n",
       "      <td>Spicy Green Papaya Salad</td>\n",
       "      <td>Thai</td>\n",
       "      <td>veg</td>\n",
       "      <td>Som Tam is a flavorful green papaya salad dish...</td>\n",
       "      <td>Thai veg Som Tam is a flavorful green papaya s...</td>\n",
       "    </tr>\n",
       "    <tr>\n",
       "      <th>1</th>\n",
       "      <td>2</td>\n",
       "      <td>Thai Fried Noodles</td>\n",
       "      <td>Thai</td>\n",
       "      <td>veg</td>\n",
       "      <td>ad Thai is one of the most iconic stirfried Th...</td>\n",
       "      <td>Thai veg ad Thai is one of the most iconic sti...</td>\n",
       "    </tr>\n",
       "    <tr>\n",
       "      <th>2</th>\n",
       "      <td>3</td>\n",
       "      <td>Hamburger</td>\n",
       "      <td>American</td>\n",
       "      <td>non-veg</td>\n",
       "      <td>A sandwich made with a beef patty and various ...</td>\n",
       "      <td>American non-veg A sandwich made with a beef p...</td>\n",
       "    </tr>\n",
       "    <tr>\n",
       "      <th>3</th>\n",
       "      <td>4</td>\n",
       "      <td>Raw Papaya Salad</td>\n",
       "      <td>Thai</td>\n",
       "      <td>veg</td>\n",
       "      <td>This Som Tum salad is as delicious as it is fi...</td>\n",
       "      <td>Thai veg This Som Tum salad is as delicious as...</td>\n",
       "    </tr>\n",
       "    <tr>\n",
       "      <th>4</th>\n",
       "      <td>5</td>\n",
       "      <td>christmas cake</td>\n",
       "      <td>Dessert</td>\n",
       "      <td>veg</td>\n",
       "      <td>christmas dry fruits presoaked orange zest lem...</td>\n",
       "      <td>Dessert veg christmas dry fruits presoaked ora...</td>\n",
       "    </tr>\n",
       "  </tbody>\n",
       "</table>\n",
       "</div>"
      ],
      "text/plain": [
       "   Food_ID                      Name    C_Type  Veg_Non  \\\n",
       "0        1  Spicy Green Papaya Salad      Thai      veg   \n",
       "1        2        Thai Fried Noodles      Thai      veg   \n",
       "2        3                 Hamburger  American  non-veg   \n",
       "3        4          Raw Papaya Salad      Thai      veg   \n",
       "4        5            christmas cake   Dessert      veg   \n",
       "\n",
       "                                            Describe  \\\n",
       "0  Som Tam is a flavorful green papaya salad dish...   \n",
       "1  ad Thai is one of the most iconic stirfried Th...   \n",
       "2  A sandwich made with a beef patty and various ...   \n",
       "3  This Som Tum salad is as delicious as it is fi...   \n",
       "4  christmas dry fruits presoaked orange zest lem...   \n",
       "\n",
       "                                                soup  \n",
       "0  Thai veg Som Tam is a flavorful green papaya s...  \n",
       "1  Thai veg ad Thai is one of the most iconic sti...  \n",
       "2  American non-veg A sandwich made with a beef p...  \n",
       "3  Thai veg This Som Tum salad is as delicious as...  \n",
       "4  Dessert veg christmas dry fruits presoaked ora...  "
      ]
     },
     "execution_count": 22,
     "metadata": {},
     "output_type": "execute_result"
    }
   ],
   "source": [
    "# Checking out if that worked!\n",
    "df.head()"
   ]
  },
  {
   "cell_type": "markdown",
   "id": "75229c75",
   "metadata": {},
   "source": [
    "### What is Count Vectorizer ?\n",
    "Convert a collection of text documents to a matrix of token counts. This implementation produces a sparse representation of the counts using scipy.sparse.csr_matrix.\n",
    "\n",
    "### What is fit_transform ?\n",
    "Learn the vocabulary dictionary and return document-term matrix.\n",
    "\n",
    "Thanks to https://scikit-learn.org/stable/modules/generated/sklearn.feature_extraction.text.CountVectorizer.html"
   ]
  },
  {
   "cell_type": "code",
   "execution_count": 23,
   "id": "0a340e36",
   "metadata": {},
   "outputs": [],
   "source": [
    "count = CountVectorizer(stop_words='english')\n",
    "count_matrix = count.fit_transform(df['soup'])"
   ]
  },
  {
   "cell_type": "markdown",
   "id": "18141fa7",
   "metadata": {},
   "source": [
    "### What is Cosine Similarity? \n",
    "The function computes cosine similarity between samples in X and Y.\n",
    "\n",
    "Thanks to https://scikit-learn.org/stable/modules/generated/sklearn.metrics.pairwise.cosine_similarity.html\n",
    "\n",
    "cosine_similarity computes the L2-normalized dot product of vectors. This is called cosine similarity, because Euclidean (L2) normalization projects the vectors onto the unit sphere, and their dot product is then the cosine of the angle between the points denoted by the vectors.\n",
    "\n",
    "Thanks to https://scikit-learn.org/stable/modules/metrics.html#cosine-similarity"
   ]
  },
  {
   "cell_type": "code",
   "execution_count": 24,
   "id": "6ab40bca",
   "metadata": {},
   "outputs": [],
   "source": [
    "cosine_sim2 = cosine_similarity(count_matrix, count_matrix)"
   ]
  },
  {
   "cell_type": "code",
   "execution_count": 25,
   "id": "23155d60",
   "metadata": {},
   "outputs": [],
   "source": [
    "# Reseting the index and pulling out the names of the food alone from the df dataframe\n",
    "df = df.reset_index()\n",
    "indices = pd.Series(df.index, index=df['Name'])"
   ]
  },
  {
   "cell_type": "code",
   "execution_count": 26,
   "id": "a31619be",
   "metadata": {},
   "outputs": [
    {
     "data": {
      "text/plain": [
       "Name\n",
       "Spicy Green Papaya Salad      0\n",
       "Thai Fried Noodles            1\n",
       "Hamburger                     2\n",
       "Raw Papaya Salad              3\n",
       "christmas cake                4\n",
       "                           ... \n",
       "Veg Hakka Noodles           304\n",
       "Pecan pie                   305\n",
       "Dosa                        306\n",
       "Double ka meetha            307\n",
       "Banana pudding              308\n",
       "Length: 309, dtype: int64"
      ]
     },
     "metadata": {},
     "output_type": "display_data"
    }
   ],
   "source": [
    "# Let's see the names of the food pulled out\n",
    "display(indices)"
   ]
  },
  {
   "cell_type": "markdown",
   "id": "1688fee8",
   "metadata": {},
   "source": [
    "# Testing Content Based Filtering"
   ]
  },
  {
   "cell_type": "code",
   "execution_count": 27,
   "id": "359dde95",
   "metadata": {},
   "outputs": [
    {
     "data": {
      "text/plain": [
       "177              Idli\n",
       "163         Idiyappam\n",
       "95          Daal puri\n",
       "216    Keerai masiyal\n",
       "283           Payasam\n",
       "Name: Name, dtype: object"
      ]
     },
     "execution_count": 27,
     "metadata": {},
     "output_type": "execute_result"
    }
   ],
   "source": [
    "# This is the first model - simple variation \n",
    "get_recommendations('Dosa')"
   ]
  },
  {
   "cell_type": "code",
   "execution_count": 28,
   "id": "49244b58",
   "metadata": {},
   "outputs": [
    {
     "data": {
      "text/plain": [
       "177               Idli\n",
       "163          Idiyappam\n",
       "214              Kanji\n",
       "246    Kothamali sadam\n",
       "281      Paruppu sadam\n",
       "Name: Name, dtype: object"
      ]
     },
     "execution_count": 28,
     "metadata": {},
     "output_type": "execute_result"
    }
   ],
   "source": [
    "# This is the second model - advanced variation \n",
    "get_recommendations('Dosa', cosine_sim2)"
   ]
  },
  {
   "cell_type": "markdown",
   "id": "3a757523",
   "metadata": {},
   "source": [
    "# Collaborative Filtering "
   ]
  },
  {
   "cell_type": "code",
   "execution_count": 29,
   "id": "55355ecc",
   "metadata": {},
   "outputs": [
    {
     "data": {
      "text/html": [
       "<div>\n",
       "<style scoped>\n",
       "    .dataframe tbody tr th:only-of-type {\n",
       "        vertical-align: middle;\n",
       "    }\n",
       "\n",
       "    .dataframe tbody tr th {\n",
       "        vertical-align: top;\n",
       "    }\n",
       "\n",
       "    .dataframe thead th {\n",
       "        text-align: right;\n",
       "    }\n",
       "</style>\n",
       "<table border=\"1\" class=\"dataframe\">\n",
       "  <thead>\n",
       "    <tr style=\"text-align: right;\">\n",
       "      <th></th>\n",
       "      <th>User_ID</th>\n",
       "      <th>Food_ID</th>\n",
       "      <th>Rating</th>\n",
       "    </tr>\n",
       "  </thead>\n",
       "  <tbody>\n",
       "    <tr>\n",
       "      <th>0</th>\n",
       "      <td>1</td>\n",
       "      <td>88</td>\n",
       "      <td>4</td>\n",
       "    </tr>\n",
       "    <tr>\n",
       "      <th>1</th>\n",
       "      <td>1</td>\n",
       "      <td>46</td>\n",
       "      <td>5</td>\n",
       "    </tr>\n",
       "    <tr>\n",
       "      <th>2</th>\n",
       "      <td>1</td>\n",
       "      <td>24</td>\n",
       "      <td>4</td>\n",
       "    </tr>\n",
       "    <tr>\n",
       "      <th>3</th>\n",
       "      <td>1</td>\n",
       "      <td>25</td>\n",
       "      <td>5</td>\n",
       "    </tr>\n",
       "    <tr>\n",
       "      <th>4</th>\n",
       "      <td>2</td>\n",
       "      <td>49</td>\n",
       "      <td>5</td>\n",
       "    </tr>\n",
       "  </tbody>\n",
       "</table>\n",
       "</div>"
      ],
      "text/plain": [
       "   User_ID  Food_ID  Rating\n",
       "0        1       88       4\n",
       "1        1       46       5\n",
       "2        1       24       4\n",
       "3        1       25       5\n",
       "4        2       49       5"
      ]
     },
     "execution_count": 29,
     "metadata": {},
     "output_type": "execute_result"
    }
   ],
   "source": [
    "# Importing the ratings file\n",
    "rating = pd.read_csv('ratings.csv')\n",
    "rating.head()"
   ]
  },
  {
   "cell_type": "code",
   "execution_count": 30,
   "id": "67ea072b",
   "metadata": {},
   "outputs": [
    {
     "data": {
      "text/plain": [
       "(763, 3)"
      ]
     },
     "execution_count": 30,
     "metadata": {},
     "output_type": "execute_result"
    }
   ],
   "source": [
    "#Checking the shape\n",
    "rating.shape"
   ]
  },
  {
   "cell_type": "code",
   "execution_count": 31,
   "id": "220c4ae5",
   "metadata": {},
   "outputs": [
    {
     "data": {
      "text/plain": [
       "User_ID    0\n",
       "Food_ID    0\n",
       "Rating     0\n",
       "dtype: int64"
      ]
     },
     "execution_count": 31,
     "metadata": {},
     "output_type": "execute_result"
    }
   ],
   "source": [
    "# Checking for null values \n",
    "rating.isnull().sum()"
   ]
  },
  {
   "cell_type": "code",
   "execution_count": 32,
   "id": "c3a7c9ff",
   "metadata": {},
   "outputs": [
    {
     "data": {
      "text/html": [
       "<div>\n",
       "<style scoped>\n",
       "    .dataframe tbody tr th:only-of-type {\n",
       "        vertical-align: middle;\n",
       "    }\n",
       "\n",
       "    .dataframe tbody tr th {\n",
       "        vertical-align: top;\n",
       "    }\n",
       "\n",
       "    .dataframe thead th {\n",
       "        text-align: right;\n",
       "    }\n",
       "</style>\n",
       "<table border=\"1\" class=\"dataframe\">\n",
       "  <thead>\n",
       "    <tr style=\"text-align: right;\">\n",
       "      <th></th>\n",
       "      <th>User_ID</th>\n",
       "      <th>Food_ID</th>\n",
       "      <th>Rating</th>\n",
       "    </tr>\n",
       "  </thead>\n",
       "  <tbody>\n",
       "    <tr>\n",
       "      <th>758</th>\n",
       "      <td>348</td>\n",
       "      <td>36</td>\n",
       "      <td>3</td>\n",
       "    </tr>\n",
       "    <tr>\n",
       "      <th>759</th>\n",
       "      <td>349</td>\n",
       "      <td>130</td>\n",
       "      <td>4</td>\n",
       "    </tr>\n",
       "    <tr>\n",
       "      <th>760</th>\n",
       "      <td>350</td>\n",
       "      <td>96</td>\n",
       "      <td>5</td>\n",
       "    </tr>\n",
       "    <tr>\n",
       "      <th>761</th>\n",
       "      <td>351</td>\n",
       "      <td>41</td>\n",
       "      <td>5</td>\n",
       "    </tr>\n",
       "    <tr>\n",
       "      <th>762</th>\n",
       "      <td>352</td>\n",
       "      <td>34</td>\n",
       "      <td>5</td>\n",
       "    </tr>\n",
       "  </tbody>\n",
       "</table>\n",
       "</div>"
      ],
      "text/plain": [
       "     User_ID  Food_ID  Rating\n",
       "758      348       36       3\n",
       "759      349      130       4\n",
       "760      350       96       5\n",
       "761      351       41       5\n",
       "762      352       34       5"
      ]
     },
     "execution_count": 32,
     "metadata": {},
     "output_type": "execute_result"
    }
   ],
   "source": [
    "# I actually saw the data earlier and found that the last row had no values \n",
    "# Let's see \n",
    "rating.tail()"
   ]
  },
  {
   "cell_type": "code",
   "execution_count": 33,
   "id": "23368782",
   "metadata": {},
   "outputs": [
    {
     "data": {
      "text/html": [
       "<div>\n",
       "<style scoped>\n",
       "    .dataframe tbody tr th:only-of-type {\n",
       "        vertical-align: middle;\n",
       "    }\n",
       "\n",
       "    .dataframe tbody tr th {\n",
       "        vertical-align: top;\n",
       "    }\n",
       "\n",
       "    .dataframe thead th {\n",
       "        text-align: right;\n",
       "    }\n",
       "</style>\n",
       "<table border=\"1\" class=\"dataframe\">\n",
       "  <thead>\n",
       "    <tr style=\"text-align: right;\">\n",
       "      <th></th>\n",
       "      <th>User_ID</th>\n",
       "      <th>Food_ID</th>\n",
       "      <th>Rating</th>\n",
       "    </tr>\n",
       "  </thead>\n",
       "  <tbody>\n",
       "    <tr>\n",
       "      <th>506</th>\n",
       "      <td>99</td>\n",
       "      <td>65</td>\n",
       "      <td>4</td>\n",
       "    </tr>\n",
       "    <tr>\n",
       "      <th>507</th>\n",
       "      <td>99</td>\n",
       "      <td>22</td>\n",
       "      <td>1</td>\n",
       "    </tr>\n",
       "    <tr>\n",
       "      <th>508</th>\n",
       "      <td>100</td>\n",
       "      <td>24</td>\n",
       "      <td>5</td>\n",
       "    </tr>\n",
       "    <tr>\n",
       "      <th>509</th>\n",
       "      <td>100</td>\n",
       "      <td>233</td>\n",
       "      <td>5</td>\n",
       "    </tr>\n",
       "    <tr>\n",
       "      <th>510</th>\n",
       "      <td>100</td>\n",
       "      <td>29</td>\n",
       "      <td>4</td>\n",
       "    </tr>\n",
       "  </tbody>\n",
       "</table>\n",
       "</div>"
      ],
      "text/plain": [
       "     User_ID  Food_ID  Rating\n",
       "506       99       65       4\n",
       "507       99       22       1\n",
       "508      100       24       5\n",
       "509      100      233       5\n",
       "510      100       29       4"
      ]
     },
     "execution_count": 33,
     "metadata": {},
     "output_type": "execute_result"
    }
   ],
   "source": [
    "# Removing the last row \n",
    "rating = rating[:511]\n",
    "rating.tail()"
   ]
  },
  {
   "cell_type": "code",
   "execution_count": 34,
   "id": "5e2e2c59",
   "metadata": {},
   "outputs": [
    {
     "data": {
      "text/plain": [
       "User_ID    0\n",
       "Food_ID    0\n",
       "Rating     0\n",
       "dtype: int64"
      ]
     },
     "execution_count": 34,
     "metadata": {},
     "output_type": "execute_result"
    }
   ],
   "source": [
    "# So, now there should not be any null value \n",
    "rating.isnull().sum()"
   ]
  },
  {
   "cell_type": "code",
   "execution_count": 35,
   "id": "3d439693",
   "metadata": {},
   "outputs": [
    {
     "data": {
      "text/html": [
       "<div>\n",
       "<style scoped>\n",
       "    .dataframe tbody tr th:only-of-type {\n",
       "        vertical-align: middle;\n",
       "    }\n",
       "\n",
       "    .dataframe tbody tr th {\n",
       "        vertical-align: top;\n",
       "    }\n",
       "\n",
       "    .dataframe thead th {\n",
       "        text-align: right;\n",
       "    }\n",
       "</style>\n",
       "<table border=\"1\" class=\"dataframe\">\n",
       "  <thead>\n",
       "    <tr style=\"text-align: right;\">\n",
       "      <th></th>\n",
       "      <th>Food_ID</th>\n",
       "      <th>Rating_count</th>\n",
       "    </tr>\n",
       "  </thead>\n",
       "  <tbody>\n",
       "    <tr>\n",
       "      <th>0</th>\n",
       "      <td>1</td>\n",
       "      <td>2</td>\n",
       "    </tr>\n",
       "    <tr>\n",
       "      <th>1</th>\n",
       "      <td>2</td>\n",
       "      <td>3</td>\n",
       "    </tr>\n",
       "    <tr>\n",
       "      <th>2</th>\n",
       "      <td>3</td>\n",
       "      <td>2</td>\n",
       "    </tr>\n",
       "    <tr>\n",
       "      <th>3</th>\n",
       "      <td>4</td>\n",
       "      <td>2</td>\n",
       "    </tr>\n",
       "    <tr>\n",
       "      <th>4</th>\n",
       "      <td>5</td>\n",
       "      <td>6</td>\n",
       "    </tr>\n",
       "    <tr>\n",
       "      <th>...</th>\n",
       "      <td>...</td>\n",
       "      <td>...</td>\n",
       "    </tr>\n",
       "    <tr>\n",
       "      <th>304</th>\n",
       "      <td>305</td>\n",
       "      <td>1</td>\n",
       "    </tr>\n",
       "    <tr>\n",
       "      <th>305</th>\n",
       "      <td>306</td>\n",
       "      <td>1</td>\n",
       "    </tr>\n",
       "    <tr>\n",
       "      <th>306</th>\n",
       "      <td>307</td>\n",
       "      <td>1</td>\n",
       "    </tr>\n",
       "    <tr>\n",
       "      <th>307</th>\n",
       "      <td>308</td>\n",
       "      <td>1</td>\n",
       "    </tr>\n",
       "    <tr>\n",
       "      <th>308</th>\n",
       "      <td>309</td>\n",
       "      <td>1</td>\n",
       "    </tr>\n",
       "  </tbody>\n",
       "</table>\n",
       "<p>309 rows × 2 columns</p>\n",
       "</div>"
      ],
      "text/plain": [
       "     Food_ID  Rating_count\n",
       "0          1             2\n",
       "1          2             3\n",
       "2          3             2\n",
       "3          4             2\n",
       "4          5             6\n",
       "..       ...           ...\n",
       "304      305             1\n",
       "305      306             1\n",
       "306      307             1\n",
       "307      308             1\n",
       "308      309             1\n",
       "\n",
       "[309 rows x 2 columns]"
      ]
     },
     "execution_count": 35,
     "metadata": {},
     "output_type": "execute_result"
    }
   ],
   "source": [
    "# Making a dataframe that has food ID and the number of ratings\n",
    "food_rating = rating.groupby(by = 'Food_ID').count()\n",
    "food_rating = food_rating['Rating'].reset_index().rename(columns={'Rating':'Rating_count'})\n",
    "food_rating"
   ]
  },
  {
   "cell_type": "code",
   "execution_count": 36,
   "id": "f468d5e5",
   "metadata": {},
   "outputs": [
    {
     "data": {
      "text/plain": [
       "count    309.000000\n",
       "mean       1.653722\n",
       "std        1.107748\n",
       "min        1.000000\n",
       "25%        1.000000\n",
       "50%        1.000000\n",
       "75%        2.000000\n",
       "max        7.000000\n",
       "Name: Rating_count, dtype: float64"
      ]
     },
     "execution_count": 36,
     "metadata": {},
     "output_type": "execute_result"
    }
   ],
   "source": [
    "# Food rating dataframe description\n",
    "food_rating['Rating_count'].describe()"
   ]
  },
  {
   "cell_type": "code",
   "execution_count": 37,
   "id": "d62f19fd",
   "metadata": {},
   "outputs": [
    {
     "data": {
      "text/html": [
       "<div>\n",
       "<style scoped>\n",
       "    .dataframe tbody tr th:only-of-type {\n",
       "        vertical-align: middle;\n",
       "    }\n",
       "\n",
       "    .dataframe tbody tr th {\n",
       "        vertical-align: top;\n",
       "    }\n",
       "\n",
       "    .dataframe thead th {\n",
       "        text-align: right;\n",
       "    }\n",
       "</style>\n",
       "<table border=\"1\" class=\"dataframe\">\n",
       "  <thead>\n",
       "    <tr style=\"text-align: right;\">\n",
       "      <th></th>\n",
       "      <th>User_ID</th>\n",
       "      <th>Rating_count</th>\n",
       "    </tr>\n",
       "  </thead>\n",
       "  <tbody>\n",
       "    <tr>\n",
       "      <th>0</th>\n",
       "      <td>1</td>\n",
       "      <td>4</td>\n",
       "    </tr>\n",
       "    <tr>\n",
       "      <th>1</th>\n",
       "      <td>2</td>\n",
       "      <td>4</td>\n",
       "    </tr>\n",
       "    <tr>\n",
       "      <th>2</th>\n",
       "      <td>3</td>\n",
       "      <td>9</td>\n",
       "    </tr>\n",
       "    <tr>\n",
       "      <th>3</th>\n",
       "      <td>4</td>\n",
       "      <td>6</td>\n",
       "    </tr>\n",
       "    <tr>\n",
       "      <th>4</th>\n",
       "      <td>5</td>\n",
       "      <td>6</td>\n",
       "    </tr>\n",
       "    <tr>\n",
       "      <th>...</th>\n",
       "      <td>...</td>\n",
       "      <td>...</td>\n",
       "    </tr>\n",
       "    <tr>\n",
       "      <th>95</th>\n",
       "      <td>96</td>\n",
       "      <td>6</td>\n",
       "    </tr>\n",
       "    <tr>\n",
       "      <th>96</th>\n",
       "      <td>97</td>\n",
       "      <td>7</td>\n",
       "    </tr>\n",
       "    <tr>\n",
       "      <th>97</th>\n",
       "      <td>98</td>\n",
       "      <td>7</td>\n",
       "    </tr>\n",
       "    <tr>\n",
       "      <th>98</th>\n",
       "      <td>99</td>\n",
       "      <td>6</td>\n",
       "    </tr>\n",
       "    <tr>\n",
       "      <th>99</th>\n",
       "      <td>100</td>\n",
       "      <td>3</td>\n",
       "    </tr>\n",
       "  </tbody>\n",
       "</table>\n",
       "<p>100 rows × 2 columns</p>\n",
       "</div>"
      ],
      "text/plain": [
       "    User_ID  Rating_count\n",
       "0         1             4\n",
       "1         2             4\n",
       "2         3             9\n",
       "3         4             6\n",
       "4         5             6\n",
       "..      ...           ...\n",
       "95       96             6\n",
       "96       97             7\n",
       "97       98             7\n",
       "98       99             6\n",
       "99      100             3\n",
       "\n",
       "[100 rows x 2 columns]"
      ]
     },
     "execution_count": 37,
     "metadata": {},
     "output_type": "execute_result"
    }
   ],
   "source": [
    "# The user rating dataframe shows the number of ratings given with respect to the user\n",
    "user_rating = rating.groupby(by='User_ID').count()\n",
    "user_rating = user_rating['Rating'].reset_index().rename(columns={'Rating':'Rating_count'})\n",
    "user_rating"
   ]
  },
  {
   "cell_type": "code",
   "execution_count": 38,
   "id": "f3f64925",
   "metadata": {},
   "outputs": [
    {
     "data": {
      "text/plain": [
       "count    100.000000\n",
       "mean       5.110000\n",
       "std        2.352282\n",
       "min        1.000000\n",
       "25%        3.000000\n",
       "50%        5.000000\n",
       "75%        7.000000\n",
       "max       11.000000\n",
       "Name: Rating_count, dtype: float64"
      ]
     },
     "execution_count": 38,
     "metadata": {},
     "output_type": "execute_result"
    }
   ],
   "source": [
    "# User rating dataframe description \n",
    "user_rating[\"Rating_count\"].describe()"
   ]
  },
  {
   "cell_type": "code",
   "execution_count": 39,
   "id": "065ce092",
   "metadata": {},
   "outputs": [
    {
     "data": {
      "text/html": [
       "<div>\n",
       "<style scoped>\n",
       "    .dataframe tbody tr th:only-of-type {\n",
       "        vertical-align: middle;\n",
       "    }\n",
       "\n",
       "    .dataframe tbody tr th {\n",
       "        vertical-align: top;\n",
       "    }\n",
       "\n",
       "    .dataframe thead th {\n",
       "        text-align: right;\n",
       "    }\n",
       "</style>\n",
       "<table border=\"1\" class=\"dataframe\">\n",
       "  <thead>\n",
       "    <tr style=\"text-align: right;\">\n",
       "      <th>User_ID</th>\n",
       "      <th>1</th>\n",
       "      <th>2</th>\n",
       "      <th>3</th>\n",
       "      <th>4</th>\n",
       "      <th>5</th>\n",
       "      <th>6</th>\n",
       "      <th>7</th>\n",
       "      <th>8</th>\n",
       "      <th>9</th>\n",
       "      <th>10</th>\n",
       "      <th>...</th>\n",
       "      <th>91</th>\n",
       "      <th>92</th>\n",
       "      <th>93</th>\n",
       "      <th>94</th>\n",
       "      <th>95</th>\n",
       "      <th>96</th>\n",
       "      <th>97</th>\n",
       "      <th>98</th>\n",
       "      <th>99</th>\n",
       "      <th>100</th>\n",
       "    </tr>\n",
       "    <tr>\n",
       "      <th>Food_ID</th>\n",
       "      <th></th>\n",
       "      <th></th>\n",
       "      <th></th>\n",
       "      <th></th>\n",
       "      <th></th>\n",
       "      <th></th>\n",
       "      <th></th>\n",
       "      <th></th>\n",
       "      <th></th>\n",
       "      <th></th>\n",
       "      <th></th>\n",
       "      <th></th>\n",
       "      <th></th>\n",
       "      <th></th>\n",
       "      <th></th>\n",
       "      <th></th>\n",
       "      <th></th>\n",
       "      <th></th>\n",
       "      <th></th>\n",
       "      <th></th>\n",
       "      <th></th>\n",
       "    </tr>\n",
       "  </thead>\n",
       "  <tbody>\n",
       "    <tr>\n",
       "      <th>1</th>\n",
       "      <td>0.0</td>\n",
       "      <td>0.0</td>\n",
       "      <td>0.0</td>\n",
       "      <td>0.0</td>\n",
       "      <td>0.0</td>\n",
       "      <td>0.0</td>\n",
       "      <td>0.0</td>\n",
       "      <td>0.0</td>\n",
       "      <td>0.0</td>\n",
       "      <td>0.0</td>\n",
       "      <td>...</td>\n",
       "      <td>0.0</td>\n",
       "      <td>0.0</td>\n",
       "      <td>0.0</td>\n",
       "      <td>0.0</td>\n",
       "      <td>0.0</td>\n",
       "      <td>0.0</td>\n",
       "      <td>0.0</td>\n",
       "      <td>0.0</td>\n",
       "      <td>0.0</td>\n",
       "      <td>0.0</td>\n",
       "    </tr>\n",
       "    <tr>\n",
       "      <th>2</th>\n",
       "      <td>0.0</td>\n",
       "      <td>0.0</td>\n",
       "      <td>0.0</td>\n",
       "      <td>0.0</td>\n",
       "      <td>0.0</td>\n",
       "      <td>0.0</td>\n",
       "      <td>0.0</td>\n",
       "      <td>0.0</td>\n",
       "      <td>4.0</td>\n",
       "      <td>0.0</td>\n",
       "      <td>...</td>\n",
       "      <td>0.0</td>\n",
       "      <td>0.0</td>\n",
       "      <td>0.0</td>\n",
       "      <td>0.0</td>\n",
       "      <td>0.0</td>\n",
       "      <td>0.0</td>\n",
       "      <td>0.0</td>\n",
       "      <td>0.0</td>\n",
       "      <td>0.0</td>\n",
       "      <td>0.0</td>\n",
       "    </tr>\n",
       "    <tr>\n",
       "      <th>3</th>\n",
       "      <td>0.0</td>\n",
       "      <td>0.0</td>\n",
       "      <td>0.0</td>\n",
       "      <td>0.0</td>\n",
       "      <td>0.0</td>\n",
       "      <td>0.0</td>\n",
       "      <td>0.0</td>\n",
       "      <td>0.0</td>\n",
       "      <td>0.0</td>\n",
       "      <td>0.0</td>\n",
       "      <td>...</td>\n",
       "      <td>0.0</td>\n",
       "      <td>0.0</td>\n",
       "      <td>0.0</td>\n",
       "      <td>0.0</td>\n",
       "      <td>0.0</td>\n",
       "      <td>0.0</td>\n",
       "      <td>0.0</td>\n",
       "      <td>0.0</td>\n",
       "      <td>0.0</td>\n",
       "      <td>0.0</td>\n",
       "    </tr>\n",
       "    <tr>\n",
       "      <th>4</th>\n",
       "      <td>0.0</td>\n",
       "      <td>0.0</td>\n",
       "      <td>0.0</td>\n",
       "      <td>0.0</td>\n",
       "      <td>0.0</td>\n",
       "      <td>0.0</td>\n",
       "      <td>0.0</td>\n",
       "      <td>0.0</td>\n",
       "      <td>0.0</td>\n",
       "      <td>0.0</td>\n",
       "      <td>...</td>\n",
       "      <td>0.0</td>\n",
       "      <td>0.0</td>\n",
       "      <td>0.0</td>\n",
       "      <td>0.0</td>\n",
       "      <td>0.0</td>\n",
       "      <td>0.0</td>\n",
       "      <td>0.0</td>\n",
       "      <td>0.0</td>\n",
       "      <td>0.0</td>\n",
       "      <td>0.0</td>\n",
       "    </tr>\n",
       "    <tr>\n",
       "      <th>5</th>\n",
       "      <td>0.0</td>\n",
       "      <td>0.0</td>\n",
       "      <td>0.0</td>\n",
       "      <td>0.0</td>\n",
       "      <td>0.0</td>\n",
       "      <td>0.0</td>\n",
       "      <td>0.0</td>\n",
       "      <td>0.0</td>\n",
       "      <td>0.0</td>\n",
       "      <td>0.0</td>\n",
       "      <td>...</td>\n",
       "      <td>0.0</td>\n",
       "      <td>0.0</td>\n",
       "      <td>0.0</td>\n",
       "      <td>2.0</td>\n",
       "      <td>0.0</td>\n",
       "      <td>0.0</td>\n",
       "      <td>0.0</td>\n",
       "      <td>4.0</td>\n",
       "      <td>0.0</td>\n",
       "      <td>0.0</td>\n",
       "    </tr>\n",
       "  </tbody>\n",
       "</table>\n",
       "<p>5 rows × 100 columns</p>\n",
       "</div>"
      ],
      "text/plain": [
       "User_ID  1    2    3    4    5    6    7    8    9    10   ...  91   92   93   \\\n",
       "Food_ID                                                    ...                  \n",
       "1        0.0  0.0  0.0  0.0  0.0  0.0  0.0  0.0  0.0  0.0  ...  0.0  0.0  0.0   \n",
       "2        0.0  0.0  0.0  0.0  0.0  0.0  0.0  0.0  4.0  0.0  ...  0.0  0.0  0.0   \n",
       "3        0.0  0.0  0.0  0.0  0.0  0.0  0.0  0.0  0.0  0.0  ...  0.0  0.0  0.0   \n",
       "4        0.0  0.0  0.0  0.0  0.0  0.0  0.0  0.0  0.0  0.0  ...  0.0  0.0  0.0   \n",
       "5        0.0  0.0  0.0  0.0  0.0  0.0  0.0  0.0  0.0  0.0  ...  0.0  0.0  0.0   \n",
       "\n",
       "User_ID  94   95   96   97   98   99   100  \n",
       "Food_ID                                     \n",
       "1        0.0  0.0  0.0  0.0  0.0  0.0  0.0  \n",
       "2        0.0  0.0  0.0  0.0  0.0  0.0  0.0  \n",
       "3        0.0  0.0  0.0  0.0  0.0  0.0  0.0  \n",
       "4        0.0  0.0  0.0  0.0  0.0  0.0  0.0  \n",
       "5        2.0  0.0  0.0  0.0  4.0  0.0  0.0  \n",
       "\n",
       "[5 rows x 100 columns]"
      ]
     },
     "execution_count": 39,
     "metadata": {},
     "output_type": "execute_result"
    }
   ],
   "source": [
    "# Ultimate Table\n",
    "rating_matrix = rating.pivot_table(index='Food_ID',columns='User_ID',values='Rating').fillna(0)\n",
    "rating_matrix.head()"
   ]
  },
  {
   "cell_type": "code",
   "execution_count": 40,
   "id": "a6e7763b",
   "metadata": {},
   "outputs": [
    {
     "data": {
      "text/plain": [
       "(309, 100)"
      ]
     },
     "execution_count": 40,
     "metadata": {},
     "output_type": "execute_result"
    }
   ],
   "source": [
    "# Shape of rating_matrix\n",
    "rating_matrix.shape"
   ]
  },
  {
   "cell_type": "markdown",
   "id": "1d2da8d4",
   "metadata": {},
   "source": [
    "### What is csr_matrix?\n",
    "Sparse matrix is a matrix that contains a lot of zeros. This functions helps to compress the sparse matrix. \n",
    "Thanks to https://docs.scipy.org/doc/scipy/reference/generated/scipy.sparse.csr_matrix.html"
   ]
  },
  {
   "cell_type": "code",
   "execution_count": 41,
   "id": "f9adf3a2",
   "metadata": {},
   "outputs": [
    {
     "name": "stdout",
     "output_type": "stream",
     "text": [
      "  (0, 48)\t5.0\n",
      "  (0, 70)\t5.0\n",
      "  (1, 8)\t4.0\n",
      "  (1, 21)\t5.0\n",
      "  (1, 38)\t5.0\n",
      "  (2, 76)\t1.0\n",
      "  (2, 88)\t4.0\n",
      "  (3, 40)\t3.0\n",
      "  (3, 89)\t3.0\n",
      "  (4, 27)\t5.0\n",
      "  (4, 38)\t5.0\n",
      "  (4, 72)\t4.0\n",
      "  (4, 87)\t3.0\n",
      "  (4, 93)\t2.0\n",
      "  (4, 97)\t4.0\n",
      "  (5, 42)\t5.0\n",
      "  (5, 48)\t3.0\n",
      "  (5, 76)\t3.0\n",
      "  (5, 91)\t1.0\n",
      "  (6, 16)\t4.0\n",
      "  (6, 47)\t5.0\n",
      "  (6, 62)\t5.0\n",
      "  (6, 69)\t4.0\n",
      "  (6, 70)\t4.0\n",
      "  (7, 4)\t4.0\n",
      "  :\t:\n",
      "  (284, 30)\t5.0\n",
      "  (285, 80)\t3.0\n",
      "  (286, 24)\t3.0\n",
      "  (287, 54)\t3.0\n",
      "  (288, 55)\t5.0\n",
      "  (289, 31)\t4.0\n",
      "  (290, 15)\t5.0\n",
      "  (291, 2)\t3.0\n",
      "  (292, 95)\t5.0\n",
      "  (293, 41)\t4.0\n",
      "  (294, 43)\t5.0\n",
      "  (295, 41)\t5.0\n",
      "  (296, 94)\t5.0\n",
      "  (297, 55)\t4.0\n",
      "  (298, 2)\t5.0\n",
      "  (299, 28)\t5.0\n",
      "  (300, 53)\t1.0\n",
      "  (301, 77)\t5.0\n",
      "  (302, 63)\t3.0\n",
      "  (303, 29)\t1.0\n",
      "  (304, 55)\t5.0\n",
      "  (305, 79)\t4.0\n",
      "  (306, 70)\t1.0\n",
      "  (307, 96)\t3.0\n",
      "  (308, 31)\t5.0\n"
     ]
    }
   ],
   "source": [
    "csr_rating_matrix =  csr_matrix(rating_matrix.values)\n",
    "print(csr_rating_matrix)"
   ]
  },
  {
   "cell_type": "markdown",
   "id": "1c713cf1",
   "metadata": {},
   "source": [
    "### What is Nearest Neighbours?\n",
    "Reference Link: https://scikit-learn.org/stable/modules/neighbors.html"
   ]
  },
  {
   "cell_type": "code",
   "execution_count": 42,
   "id": "6a857ebc",
   "metadata": {},
   "outputs": [
    {
     "data": {
      "text/plain": [
       "NearestNeighbors(metric='cosine')"
      ]
     },
     "execution_count": 42,
     "metadata": {},
     "output_type": "execute_result"
    }
   ],
   "source": [
    "# Using cosine similarity to find nearest neigbours \n",
    "recommender = NearestNeighbors(metric='cosine')\n",
    "recommender.fit(csr_rating_matrix)"
   ]
  },
  {
   "cell_type": "code",
   "execution_count": 43,
   "id": "441fe0b6",
   "metadata": {},
   "outputs": [],
   "source": [
    "# The main recommender code!\n",
    "def Get_Recommendations(title):\n",
    "    user= df[df['Name']==title]\n",
    "    user_index = np.where(rating_matrix.index==int(user['Food_ID']))[0][0]\n",
    "    user_ratings = rating_matrix.iloc[user_index]\n",
    "\n",
    "    reshaped = user_ratings.values.reshape(1,-1)\n",
    "    distances, indices = recommender.kneighbors(reshaped,n_neighbors=16)\n",
    "    \n",
    "    nearest_neighbors_indices = rating_matrix.iloc[indices[0]].index[1:]\n",
    "    nearest_neighbors = pd.DataFrame({'Food_ID': nearest_neighbors_indices})\n",
    "    \n",
    "    result = pd.merge(nearest_neighbors,df,on='Food_ID',how='left')\n",
    "    \n",
    "    return result.head()"
   ]
  },
  {
   "cell_type": "code",
   "execution_count": 44,
   "id": "3abafcd8",
   "metadata": {},
   "outputs": [
    {
     "data": {
      "text/html": [
       "<div>\n",
       "<style scoped>\n",
       "    .dataframe tbody tr th:only-of-type {\n",
       "        vertical-align: middle;\n",
       "    }\n",
       "\n",
       "    .dataframe tbody tr th {\n",
       "        vertical-align: top;\n",
       "    }\n",
       "\n",
       "    .dataframe thead th {\n",
       "        text-align: right;\n",
       "    }\n",
       "</style>\n",
       "<table border=\"1\" class=\"dataframe\">\n",
       "  <thead>\n",
       "    <tr style=\"text-align: right;\">\n",
       "      <th></th>\n",
       "      <th>Food_ID</th>\n",
       "      <th>index</th>\n",
       "      <th>Name</th>\n",
       "      <th>C_Type</th>\n",
       "      <th>Veg_Non</th>\n",
       "      <th>Describe</th>\n",
       "      <th>soup</th>\n",
       "    </tr>\n",
       "  </thead>\n",
       "  <tbody>\n",
       "    <tr>\n",
       "      <th>0</th>\n",
       "      <td>307</td>\n",
       "      <td>306</td>\n",
       "      <td>Dosa</td>\n",
       "      <td>Indian</td>\n",
       "      <td>veg</td>\n",
       "      <td>PancakeHopper Ground rice urad dal</td>\n",
       "      <td>Indian veg PancakeHopper Ground rice urad dal</td>\n",
       "    </tr>\n",
       "    <tr>\n",
       "      <th>1</th>\n",
       "      <td>1</td>\n",
       "      <td>0</td>\n",
       "      <td>Spicy Green Papaya Salad</td>\n",
       "      <td>Thai</td>\n",
       "      <td>veg</td>\n",
       "      <td>Som Tam is a flavorful green papaya salad dish...</td>\n",
       "      <td>Thai veg Som Tam is a flavorful green papaya s...</td>\n",
       "    </tr>\n",
       "    <tr>\n",
       "      <th>2</th>\n",
       "      <td>50</td>\n",
       "      <td>49</td>\n",
       "      <td>Panzanella</td>\n",
       "      <td>Italian</td>\n",
       "      <td>veg</td>\n",
       "      <td>a bread salad with tomatoes onions and basil</td>\n",
       "      <td>Italian veg a bread salad with tomatoes onions...</td>\n",
       "    </tr>\n",
       "    <tr>\n",
       "      <th>3</th>\n",
       "      <td>7</td>\n",
       "      <td>6</td>\n",
       "      <td>chocolate nero cookies</td>\n",
       "      <td>Dessert</td>\n",
       "      <td>veg</td>\n",
       "      <td>almonds eggs granulated sugar bittersweet choc...</td>\n",
       "      <td>Dessert veg almonds eggs granulated sugar bitt...</td>\n",
       "    </tr>\n",
       "    <tr>\n",
       "      <th>4</th>\n",
       "      <td>53</td>\n",
       "      <td>52</td>\n",
       "      <td>Cheeseburger</td>\n",
       "      <td>American</td>\n",
       "      <td>non-veg</td>\n",
       "      <td>A hamburger topped with cheese</td>\n",
       "      <td>American non-veg A hamburger topped with cheese</td>\n",
       "    </tr>\n",
       "  </tbody>\n",
       "</table>\n",
       "</div>"
      ],
      "text/plain": [
       "   Food_ID  index                      Name    C_Type  Veg_Non  \\\n",
       "0      307    306                      Dosa    Indian      veg   \n",
       "1        1      0  Spicy Green Papaya Salad      Thai      veg   \n",
       "2       50     49                Panzanella   Italian      veg   \n",
       "3        7      6    chocolate nero cookies   Dessert      veg   \n",
       "4       53     52              Cheeseburger  American  non-veg   \n",
       "\n",
       "                                            Describe  \\\n",
       "0                 PancakeHopper Ground rice urad dal   \n",
       "1  Som Tam is a flavorful green papaya salad dish...   \n",
       "2       a bread salad with tomatoes onions and basil   \n",
       "3  almonds eggs granulated sugar bittersweet choc...   \n",
       "4                     A hamburger topped with cheese   \n",
       "\n",
       "                                                soup  \n",
       "0      Indian veg PancakeHopper Ground rice urad dal  \n",
       "1  Thai veg Som Tam is a flavorful green papaya s...  \n",
       "2  Italian veg a bread salad with tomatoes onions...  \n",
       "3  Dessert veg almonds eggs granulated sugar bitt...  \n",
       "4    American non-veg A hamburger topped with cheese  "
      ]
     },
     "execution_count": 44,
     "metadata": {},
     "output_type": "execute_result"
    }
   ],
   "source": [
    "# Get recommendations with this function \n",
    "Get_Recommendations('Dosa')"
   ]
  },
  {
   "cell_type": "markdown",
   "id": "c2b1654e",
   "metadata": {},
   "source": [
    "# Upvote if you like this ✨"
   ]
  }
 ],
 "metadata": {
  "kernelspec": {
   "display_name": "Python 3 (ipykernel)",
   "language": "python",
   "name": "python3"
  },
  "language_info": {
   "codemirror_mode": {
    "name": "ipython",
    "version": 3
   },
   "file_extension": ".py",
   "mimetype": "text/x-python",
   "name": "python",
   "nbconvert_exporter": "python",
   "pygments_lexer": "ipython3",
   "version": "3.9.12"
  }
 },
 "nbformat": 4,
 "nbformat_minor": 5
}
